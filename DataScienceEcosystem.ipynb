{
  "nbformat": 4,
  "nbformat_minor": 0,
  "metadata": {
    "colab": {
      "provenance": []
    },
    "kernelspec": {
      "name": "python3",
      "display_name": "Python 3"
    },
    "language_info": {
      "name": "python"
    }
  },
  "cells": [
    {
      "cell_type": "markdown",
      "source": [
        "#Data Science Tools and Ecosystem"
      ],
      "metadata": {
        "id": "Gwr6w42x541c"
      }
    },
    {
      "cell_type": "markdown",
      "source": [
        "In this notebook, Data Science Tools and Ecosystem are summarized.\n",
        "\n"
      ],
      "metadata": {
        "id": "b3m3vBN_6pir"
      }
    },
    {
      "cell_type": "markdown",
      "source": [
        "**Objectives:**\n",
        "* List popular  languages for Data Science\n",
        "* List commonly used librairies used by Data Scientists\n",
        "* List Data Science Tools\n",
        "* List Arithmetic expresions"
      ],
      "metadata": {
        "id": "WcdlbQlZ91z2"
      }
    },
    {
      "cell_type": "markdown",
      "source": [
        "Some of the popular languages that Data Scientists use are:\n",
        "1. Python\n",
        "2. R\n",
        "3. C++\n",
        "4. C"
      ],
      "metadata": {
        "id": "f2b98uZq657s"
      }
    },
    {
      "cell_type": "markdown",
      "source": [
        "Some of the commonly used libraries used by Data Scientists include:\n",
        "1. Pandas\n",
        "2. Numpy\n",
        "3. Matplotlib"
      ],
      "metadata": {
        "id": "QgMBZUN27Qyk"
      }
    },
    {
      "cell_type": "markdown",
      "source": [
        "|Data Science Tools|\n",
        "| ---------------- |\n",
        "|R studio|\n",
        "|Google Colab|\n",
        "|Jupyter notebook|"
      ],
      "metadata": {
        "id": "tLe5-drm8Ueb"
      }
    },
    {
      "cell_type": "markdown",
      "source": [
        "###Below are a few examples of evaluating arithmetic expressions in Python.\n"
      ],
      "metadata": {
        "id": "s6rhwJI58zX8"
      }
    },
    {
      "cell_type": "code",
      "source": [
        "# This a simple arithmetic expression to mutiply then add integers\n",
        "(3*4)+5"
      ],
      "metadata": {
        "colab": {
          "base_uri": "https://localhost:8080/"
        },
        "id": "LaGpCPr456E5",
        "outputId": "ef7f4822-72c5-4a34-dfd4-4c8c7998b8a5"
      },
      "execution_count": 3,
      "outputs": [
        {
          "output_type": "execute_result",
          "data": {
            "text/plain": [
              "17"
            ]
          },
          "metadata": {},
          "execution_count": 3
        }
      ]
    },
    {
      "cell_type": "code",
      "source": [
        "# This will convert 200 minutes to hours by dividing by 60\n",
        "200/60"
      ],
      "metadata": {
        "colab": {
          "base_uri": "https://localhost:8080/"
        },
        "id": "MtysfPqT9Iux",
        "outputId": "79d4b97e-49ba-4795-e64a-6bccaaa29dcb"
      },
      "execution_count": 4,
      "outputs": [
        {
          "output_type": "execute_result",
          "data": {
            "text/plain": [
              "3.3333333333333335"
            ]
          },
          "metadata": {},
          "execution_count": 4
        }
      ]
    },
    {
      "cell_type": "markdown",
      "source": [
        "##Author\n",
        "Nour BB"
      ],
      "metadata": {
        "id": "wYAvL_T0-rpD"
      }
    },
    {
      "cell_type": "code",
      "source": [],
      "metadata": {
        "id": "0BJyoJAe9hYE"
      },
      "execution_count": null,
      "outputs": []
    }
  ]
}